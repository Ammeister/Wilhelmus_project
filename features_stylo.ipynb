{
 "cells": [
  {
   "cell_type": "code",
   "execution_count": 1,
   "id": "8e5a91f5",
   "metadata": {},
   "outputs": [],
   "source": [
    "import pandas as pd\n",
    "from collections import Counter\n",
    "from glob import glob\n",
    "import csv\n",
    "import os.path as path"
   ]
  },
  {
   "cell_type": "code",
   "execution_count": 2,
   "id": "bb11a980",
   "metadata": {},
   "outputs": [],
   "source": [
    "from pie_ex_processortended.cli.utils import get_tagger\n",
    "from pie_extended.models.dum.imports import get_iterator_and"
   ]
  },
  {
   "cell_type": "code",
   "execution_count": 87,
   "id": "ca4b68f0",
   "metadata": {},
   "outputs": [],
   "source": [
    "n = 50\n",
    "#path_name = 'test/*.txt'\n",
    "path_name = 'txt/*.txt'"
   ]
  },
  {
   "cell_type": "code",
   "execution_count": 43,
   "id": "5b597bc9",
   "metadata": {},
   "outputs": [],
   "source": [
    "#_____________ PIE-EXTENDED  _________________"
   ]
  },
  {
   "cell_type": "code",
   "execution_count": 44,
   "id": "c4798a83",
   "metadata": {},
   "outputs": [
    {
     "name": "stderr",
     "output_type": "stream",
     "text": [
      "2021-11-27 14:30:52,347 : Model /home/humanum/.local/lib/python3.8/site-packages/pie_extended/downloads/dum/lemma.tar was serialized with a previous version of `pie`. This might result in issues. Model commit is 050815e, whereas current `pie` commit is 9ce3e8f.\n",
      "2021-11-27 14:30:53,117 : Model /home/humanum/.local/lib/python3.8/site-packages/pie_extended/downloads/dum/pos.tar was serialized with a previous version of `pie`. This might result in issues. Model commit is 050815e, whereas current `pie` commit is 9ce3e8f.\n"
     ]
    }
   ],
   "source": [
    "model_name = \"dum\"\n",
    "tagger = get_tagger(model_name, batch_size=256, device=\"cpu\", model_path=None)"
   ]
  },
  {
   "cell_type": "code",
   "execution_count": 74,
   "id": "935ee2ec",
   "metadata": {},
   "outputs": [],
   "source": [
    "def main(path_name, doc_name, n):\n",
    "    with open(path_name, encoding=\"utf8\") as file:\n",
    "        lignes = file.readlines()\n",
    "\n",
    "        for ligne in lignes:\n",
    "            iterator, processor = get_iterator_and_processor()\n",
    "            annotation = tagger.tag_str(ligne, iterator=iterator, processor=processor)\n",
    "            list_three_chars = three_chars(ligne)\n",
    "\n",
    "    df_pie = pd.DataFrame(annotation)\n",
    "    \n",
    "    df_tri_pos = list_freq_tri_pos(df_pie['pos'], n, doc_name)\n",
    "         \n",
    "    df_tri_char = list_freq_tri_char(list_three_chars, n, doc_name)\n",
    "    \n",
    "    list_lemma = nettoie_lemma(df_pie['lemma'], df_pie['pos'])\n",
    "    df_lemma = list_freq_lemma(list_lemma, n, doc_name)\n",
    "\n",
    "    return df_lemma, df_tri_pos, df_tri_char"
   ]
  },
  {
   "cell_type": "code",
   "execution_count": 75,
   "id": "9db842ad",
   "metadata": {},
   "outputs": [],
   "source": [
    "def nettoie_lemma(list_lemma, list_pos):\n",
    "    pos_ok = [\"pre\", \"adv\", \"det\", \"conj\", \"pron\", \"adp\", \"art\"]\n",
    "    list_nettoie = []\n",
    "    if len(list_lemma) == len(list_pos):\n",
    "        for i in range(0, len(list_lemma)-1):\n",
    "            if list_pos[i].split(\"(\")[0] in pos_ok:\n",
    "                list_nettoie.append(list_lemma[i])\n",
    "    return list_nettoie"
   ]
  },
  {
   "cell_type": "code",
   "execution_count": 76,
   "id": "5a180650",
   "metadata": {},
   "outputs": [],
   "source": [
    "def list_freq_lemma(list_lemma, n, doc_name):\n",
    "    table_freq_lemma = dict(Counter(list_lemma).most_common(n))\n",
    "    \n",
    "    zipped_lemma = list(zip(table_freq_lemma.keys(), table_freq_lemma.values()))\n",
    "    df_lemma = pd.DataFrame(zipped_lemma, columns=['Lemma', 'Nombre d\\'apparitions'])\n",
    "    df_lemma['Frequence d\\'apparition'] = round(df_lemma['Nombre d\\'apparitions']/sum(table_freq_lemma.values()),5)\n",
    "    \n",
    "    df_lemma.sort_values('Frequence d\\'apparition',ascending=False).to_csv(r'freq_lemma/'+doc_name+'_lemma_freq.csv', index = False)\n",
    "    return df_lemma"
   ]
  },
  {
   "cell_type": "code",
   "execution_count": 77,
   "id": "8663a8d5",
   "metadata": {},
   "outputs": [],
   "source": [
    "def list_freq_tri_char(list_three_chars, n, doc_name):\n",
    "    table_freq_chars = dict(Counter(list_three_chars).most_common(n))\n",
    "    \n",
    "    zipped_chars = list(zip(table_freq_chars.keys(), table_freq_chars.values()))\n",
    "    df_chars = pd.DataFrame(zipped_chars, columns=['chars', 'Nombre d\\'apparitions'])\n",
    "    df_chars['Frequence d\\'apparition'] = round(df_chars['Nombre d\\'apparitions']/sum(table_freq_chars.values()),5)\n",
    "    \n",
    "    df_chars.sort_values('Frequence d\\'apparition',ascending=False).to_csv(r'three_chars/'+doc_name+'_tri_char_freq.csv', index = False)\n",
    "    return df_chars"
   ]
  },
  {
   "cell_type": "code",
   "execution_count": 78,
   "id": "03f417c5",
   "metadata": {},
   "outputs": [],
   "source": [
    "def three_chars(chaine):\n",
    "    list_three_chars = []\n",
    "    for i in range(0, len(chaine)-2):\n",
    "        list_three_chars.append(chaine[i]+chaine[i+1]+chaine[i+2])   \n",
    "    return list_three_chars"
   ]
  },
  {
   "cell_type": "code",
   "execution_count": 79,
   "id": "f053f32e",
   "metadata": {},
   "outputs": [],
   "source": [
    "def trigrammize(list_token):\n",
    "    \"\"\"fonction qui prend en parametre une liste de tokens et retourne une liste de tri-grammes\"\"\"\n",
    "    list_trigram = []\n",
    "    for indice_token in range(len(list_token)-2):\n",
    "        trigram = list_token[indice_token].split(\"(\")[0]+'_'+list_token[indice_token+1].split(\"(\")[0]+'_'+list_token[indice_token+2].split(\"(\")[0]\n",
    "        list_trigram.append(trigram)\n",
    "    return list_trigram"
   ]
  },
  {
   "cell_type": "code",
   "execution_count": 80,
   "id": "b4327326",
   "metadata": {},
   "outputs": [],
   "source": [
    "def list_freq_tri_pos(list_token, n, doc_name):\n",
    "    list_trigram = trigrammize(list_token)\n",
    "    table_freq_tri_pos = dict(Counter(list_trigram).most_common(n))\n",
    "    zipped_tri_pos = list(zip(table_freq_tri_pos.keys(), table_freq_tri_pos.values()))\n",
    "    df_tri_pos = pd.DataFrame(zipped_tri_pos, columns=['chars', 'Nombre d\\'apparitions'])\n",
    "    df_tri_pos['Frequence d\\'apparition'] = round(df_tri_pos['Nombre d\\'apparitions']/sum(table_freq_tri_pos.values()),5)\n",
    "    \n",
    "    df_tri_pos.sort_values('Frequence d\\'apparition',ascending=False).to_csv(r'trigram_pos/'+doc_name+'_tri_pos_freq.csv', index = False)\n",
    "    \n",
    "    \n",
    "    return df_tri_pos"
   ]
  },
  {
   "cell_type": "code",
   "execution_count": 81,
   "id": "e12a5de7",
   "metadata": {},
   "outputs": [],
   "source": [
    "def moulinette(path_name, n):\n",
    "    df_main = pd.DataFrame()\n",
    "    for doc in glob(path_name):\n",
    "        doc_name = path.splitext(path.basename(doc))[0]\n",
    "        df_lemma, df_tri_pos, df_tri_char = main(doc, doc_name, n)\n",
    "        list_df = [df_lemma, df_tri_pos, df_tri_char]\n",
    "        df_main[doc_name] = list_df\n",
    "    return df_main"
   ]
  },
  {
   "cell_type": "code",
   "execution_count": 88,
   "id": "c1ec6652",
   "metadata": {},
   "outputs": [],
   "source": [
    "df_main = moulinette(path_name, n)"
   ]
  },
  {
   "cell_type": "code",
   "execution_count": null,
   "id": "c7b2392d",
   "metadata": {},
   "outputs": [],
   "source": []
  },
  {
   "cell_type": "code",
   "execution_count": null,
   "id": "1377a0e1",
   "metadata": {},
   "outputs": [],
   "source": []
  },
  {
   "cell_type": "code",
   "execution_count": null,
   "id": "ff1c7e2c",
   "metadata": {},
   "outputs": [],
   "source": []
  },
  {
   "cell_type": "code",
   "execution_count": null,
   "id": "eb5ef7f4",
   "metadata": {},
   "outputs": [],
   "source": []
  },
  {
   "cell_type": "code",
   "execution_count": 160,
   "id": "9f6ac8a8",
   "metadata": {},
   "outputs": [
    {
     "data": {
      "text/html": [
       "<div>\n",
       "<style scoped>\n",
       "    .dataframe tbody tr th:only-of-type {\n",
       "        vertical-align: middle;\n",
       "    }\n",
       "\n",
       "    .dataframe tbody tr th {\n",
       "        vertical-align: top;\n",
       "    }\n",
       "\n",
       "    .dataframe thead th {\n",
       "        text-align: right;\n",
       "    }\n",
       "</style>\n",
       "<table border=\"1\" class=\"dataframe\">\n",
       "  <thead>\n",
       "    <tr style=\"text-align: right;\">\n",
       "      <th></th>\n",
       "      <th>chars</th>\n",
       "      <th>Nombre d'apparitions</th>\n",
       "      <th>Frequence d'apparition</th>\n",
       "    </tr>\n",
       "  </thead>\n",
       "  <tbody>\n",
       "    <tr>\n",
       "      <th>0</th>\n",
       "      <td>n_pron_n</td>\n",
       "      <td>5</td>\n",
       "      <td>0.07042</td>\n",
       "    </tr>\n",
       "    <tr>\n",
       "      <th>1</th>\n",
       "      <td>n_v_pron</td>\n",
       "      <td>4</td>\n",
       "      <td>0.05634</td>\n",
       "    </tr>\n",
       "    <tr>\n",
       "      <th>2</th>\n",
       "      <td>n_v_adp</td>\n",
       "      <td>2</td>\n",
       "      <td>0.02817</td>\n",
       "    </tr>\n",
       "    <tr>\n",
       "      <th>3</th>\n",
       "      <td>v_adp_n</td>\n",
       "      <td>2</td>\n",
       "      <td>0.02817</td>\n",
       "    </tr>\n",
       "    <tr>\n",
       "      <th>4</th>\n",
       "      <td>pron_n_conj</td>\n",
       "      <td>2</td>\n",
       "      <td>0.02817</td>\n",
       "    </tr>\n",
       "    <tr>\n",
       "      <th>5</th>\n",
       "      <td>v_pron_pron</td>\n",
       "      <td>2</td>\n",
       "      <td>0.02817</td>\n",
       "    </tr>\n",
       "    <tr>\n",
       "      <th>6</th>\n",
       "      <td>v_interj_v</td>\n",
       "      <td>2</td>\n",
       "      <td>0.02817</td>\n",
       "    </tr>\n",
       "    <tr>\n",
       "      <th>7</th>\n",
       "      <td>v_pron_adj</td>\n",
       "      <td>2</td>\n",
       "      <td>0.02817</td>\n",
       "    </tr>\n",
       "    <tr>\n",
       "      <th>8</th>\n",
       "      <td>pron_n_v</td>\n",
       "      <td>2</td>\n",
       "      <td>0.02817</td>\n",
       "    </tr>\n",
       "    <tr>\n",
       "      <th>9</th>\n",
       "      <td>v_v_n</td>\n",
       "      <td>2</td>\n",
       "      <td>0.02817</td>\n",
       "    </tr>\n",
       "    <tr>\n",
       "      <th>10</th>\n",
       "      <td>v_adv_pron</td>\n",
       "      <td>2</td>\n",
       "      <td>0.02817</td>\n",
       "    </tr>\n",
       "    <tr>\n",
       "      <th>11</th>\n",
       "      <td>adv_pron_n</td>\n",
       "      <td>2</td>\n",
       "      <td>0.02817</td>\n",
       "    </tr>\n",
       "    <tr>\n",
       "      <th>12</th>\n",
       "      <td>art_n_conj</td>\n",
       "      <td>2</td>\n",
       "      <td>0.02817</td>\n",
       "    </tr>\n",
       "    <tr>\n",
       "      <th>13</th>\n",
       "      <td>n_n_v</td>\n",
       "      <td>2</td>\n",
       "      <td>0.02817</td>\n",
       "    </tr>\n",
       "    <tr>\n",
       "      <th>14</th>\n",
       "      <td>adj_n_conj</td>\n",
       "      <td>2</td>\n",
       "      <td>0.02817</td>\n",
       "    </tr>\n",
       "    <tr>\n",
       "      <th>15</th>\n",
       "      <td>n_conj_adj</td>\n",
       "      <td>2</td>\n",
       "      <td>0.02817</td>\n",
       "    </tr>\n",
       "    <tr>\n",
       "      <th>16</th>\n",
       "      <td>adp_n_pron</td>\n",
       "      <td>1</td>\n",
       "      <td>0.01408</td>\n",
       "    </tr>\n",
       "    <tr>\n",
       "      <th>17</th>\n",
       "      <td>pron_n_adp</td>\n",
       "      <td>1</td>\n",
       "      <td>0.01408</td>\n",
       "    </tr>\n",
       "    <tr>\n",
       "      <th>18</th>\n",
       "      <td>n_adp_art</td>\n",
       "      <td>1</td>\n",
       "      <td>0.01408</td>\n",
       "    </tr>\n",
       "    <tr>\n",
       "      <th>19</th>\n",
       "      <td>adp_art_n</td>\n",
       "      <td>1</td>\n",
       "      <td>0.01408</td>\n",
       "    </tr>\n",
       "    <tr>\n",
       "      <th>20</th>\n",
       "      <td>art_n_pron</td>\n",
       "      <td>1</td>\n",
       "      <td>0.01408</td>\n",
       "    </tr>\n",
       "    <tr>\n",
       "      <th>21</th>\n",
       "      <td>n_conj_n</td>\n",
       "      <td>1</td>\n",
       "      <td>0.01408</td>\n",
       "    </tr>\n",
       "    <tr>\n",
       "      <th>22</th>\n",
       "      <td>conj_n_adp</td>\n",
       "      <td>1</td>\n",
       "      <td>0.01408</td>\n",
       "    </tr>\n",
       "    <tr>\n",
       "      <th>23</th>\n",
       "      <td>n_adp_adv</td>\n",
       "      <td>1</td>\n",
       "      <td>0.01408</td>\n",
       "    </tr>\n",
       "    <tr>\n",
       "      <th>24</th>\n",
       "      <td>adp_adv_v</td>\n",
       "      <td>1</td>\n",
       "      <td>0.01408</td>\n",
       "    </tr>\n",
       "    <tr>\n",
       "      <th>25</th>\n",
       "      <td>adv_v_pron</td>\n",
       "      <td>1</td>\n",
       "      <td>0.01408</td>\n",
       "    </tr>\n",
       "    <tr>\n",
       "      <th>26</th>\n",
       "      <td>v_pron_n</td>\n",
       "      <td>1</td>\n",
       "      <td>0.01408</td>\n",
       "    </tr>\n",
       "    <tr>\n",
       "      <th>27</th>\n",
       "      <td>pron_n_pron</td>\n",
       "      <td>1</td>\n",
       "      <td>0.01408</td>\n",
       "    </tr>\n",
       "    <tr>\n",
       "      <th>28</th>\n",
       "      <td>n_pron_pronadv</td>\n",
       "      <td>1</td>\n",
       "      <td>0.01408</td>\n",
       "    </tr>\n",
       "    <tr>\n",
       "      <th>29</th>\n",
       "      <td>pron_pronadv_n</td>\n",
       "      <td>1</td>\n",
       "      <td>0.01408</td>\n",
       "    </tr>\n",
       "    <tr>\n",
       "      <th>30</th>\n",
       "      <td>pronadv_n_pron</td>\n",
       "      <td>1</td>\n",
       "      <td>0.01408</td>\n",
       "    </tr>\n",
       "    <tr>\n",
       "      <th>31</th>\n",
       "      <td>pron_n_pronadv</td>\n",
       "      <td>1</td>\n",
       "      <td>0.01408</td>\n",
       "    </tr>\n",
       "    <tr>\n",
       "      <th>32</th>\n",
       "      <td>n_pronadv_n</td>\n",
       "      <td>1</td>\n",
       "      <td>0.01408</td>\n",
       "    </tr>\n",
       "    <tr>\n",
       "      <th>33</th>\n",
       "      <td>pronadv_n_v</td>\n",
       "      <td>1</td>\n",
       "      <td>0.01408</td>\n",
       "    </tr>\n",
       "    <tr>\n",
       "      <th>34</th>\n",
       "      <td>pron_pron_art</td>\n",
       "      <td>1</td>\n",
       "      <td>0.01408</td>\n",
       "    </tr>\n",
       "    <tr>\n",
       "      <th>35</th>\n",
       "      <td>pron_art_n</td>\n",
       "      <td>1</td>\n",
       "      <td>0.01408</td>\n",
       "    </tr>\n",
       "    <tr>\n",
       "      <th>36</th>\n",
       "      <td>art_n_v</td>\n",
       "      <td>1</td>\n",
       "      <td>0.01408</td>\n",
       "    </tr>\n",
       "    <tr>\n",
       "      <th>37</th>\n",
       "      <td>n_v_interj</td>\n",
       "      <td>1</td>\n",
       "      <td>0.01408</td>\n",
       "    </tr>\n",
       "    <tr>\n",
       "      <th>38</th>\n",
       "      <td>interj_v_n</td>\n",
       "      <td>1</td>\n",
       "      <td>0.01408</td>\n",
       "    </tr>\n",
       "    <tr>\n",
       "      <th>39</th>\n",
       "      <td>v_n_adp</td>\n",
       "      <td>1</td>\n",
       "      <td>0.01408</td>\n",
       "    </tr>\n",
       "    <tr>\n",
       "      <th>40</th>\n",
       "      <td>n_adp_adj</td>\n",
       "      <td>1</td>\n",
       "      <td>0.01408</td>\n",
       "    </tr>\n",
       "    <tr>\n",
       "      <th>41</th>\n",
       "      <td>adp_adj_n</td>\n",
       "      <td>1</td>\n",
       "      <td>0.01408</td>\n",
       "    </tr>\n",
       "    <tr>\n",
       "      <th>42</th>\n",
       "      <td>adj_n_v</td>\n",
       "      <td>1</td>\n",
       "      <td>0.01408</td>\n",
       "    </tr>\n",
       "    <tr>\n",
       "      <th>43</th>\n",
       "      <td>pron_adj_interj</td>\n",
       "      <td>1</td>\n",
       "      <td>0.01408</td>\n",
       "    </tr>\n",
       "    <tr>\n",
       "      <th>44</th>\n",
       "      <td>adj_interj_n</td>\n",
       "      <td>1</td>\n",
       "      <td>0.01408</td>\n",
       "    </tr>\n",
       "    <tr>\n",
       "      <th>45</th>\n",
       "      <td>interj_n_art</td>\n",
       "      <td>1</td>\n",
       "      <td>0.01408</td>\n",
       "    </tr>\n",
       "    <tr>\n",
       "      <th>46</th>\n",
       "      <td>n_art_adj</td>\n",
       "      <td>1</td>\n",
       "      <td>0.01408</td>\n",
       "    </tr>\n",
       "    <tr>\n",
       "      <th>47</th>\n",
       "      <td>art_adj_n</td>\n",
       "      <td>1</td>\n",
       "      <td>0.01408</td>\n",
       "    </tr>\n",
       "    <tr>\n",
       "      <th>48</th>\n",
       "      <td>adj_n_pron</td>\n",
       "      <td>1</td>\n",
       "      <td>0.01408</td>\n",
       "    </tr>\n",
       "    <tr>\n",
       "      <th>49</th>\n",
       "      <td>n_v_v</td>\n",
       "      <td>1</td>\n",
       "      <td>0.01408</td>\n",
       "    </tr>\n",
       "  </tbody>\n",
       "</table>\n",
       "</div>"
      ],
      "text/plain": [
       "              chars  Nombre d'apparitions  Frequence d'apparition\n",
       "0          n_pron_n                     5                 0.07042\n",
       "1          n_v_pron                     4                 0.05634\n",
       "2           n_v_adp                     2                 0.02817\n",
       "3           v_adp_n                     2                 0.02817\n",
       "4       pron_n_conj                     2                 0.02817\n",
       "5       v_pron_pron                     2                 0.02817\n",
       "6        v_interj_v                     2                 0.02817\n",
       "7        v_pron_adj                     2                 0.02817\n",
       "8          pron_n_v                     2                 0.02817\n",
       "9             v_v_n                     2                 0.02817\n",
       "10       v_adv_pron                     2                 0.02817\n",
       "11       adv_pron_n                     2                 0.02817\n",
       "12       art_n_conj                     2                 0.02817\n",
       "13            n_n_v                     2                 0.02817\n",
       "14       adj_n_conj                     2                 0.02817\n",
       "15       n_conj_adj                     2                 0.02817\n",
       "16       adp_n_pron                     1                 0.01408\n",
       "17       pron_n_adp                     1                 0.01408\n",
       "18        n_adp_art                     1                 0.01408\n",
       "19        adp_art_n                     1                 0.01408\n",
       "20       art_n_pron                     1                 0.01408\n",
       "21         n_conj_n                     1                 0.01408\n",
       "22       conj_n_adp                     1                 0.01408\n",
       "23        n_adp_adv                     1                 0.01408\n",
       "24        adp_adv_v                     1                 0.01408\n",
       "25       adv_v_pron                     1                 0.01408\n",
       "26         v_pron_n                     1                 0.01408\n",
       "27      pron_n_pron                     1                 0.01408\n",
       "28   n_pron_pronadv                     1                 0.01408\n",
       "29   pron_pronadv_n                     1                 0.01408\n",
       "30   pronadv_n_pron                     1                 0.01408\n",
       "31   pron_n_pronadv                     1                 0.01408\n",
       "32      n_pronadv_n                     1                 0.01408\n",
       "33      pronadv_n_v                     1                 0.01408\n",
       "34    pron_pron_art                     1                 0.01408\n",
       "35       pron_art_n                     1                 0.01408\n",
       "36          art_n_v                     1                 0.01408\n",
       "37       n_v_interj                     1                 0.01408\n",
       "38       interj_v_n                     1                 0.01408\n",
       "39          v_n_adp                     1                 0.01408\n",
       "40        n_adp_adj                     1                 0.01408\n",
       "41        adp_adj_n                     1                 0.01408\n",
       "42          adj_n_v                     1                 0.01408\n",
       "43  pron_adj_interj                     1                 0.01408\n",
       "44     adj_interj_n                     1                 0.01408\n",
       "45     interj_n_art                     1                 0.01408\n",
       "46        n_art_adj                     1                 0.01408\n",
       "47        art_adj_n                     1                 0.01408\n",
       "48       adj_n_pron                     1                 0.01408\n",
       "49            n_v_v                     1                 0.01408"
      ]
     },
     "execution_count": 160,
     "metadata": {},
     "output_type": "execute_result"
    }
   ],
   "source": [
    "df_main[\"193536\"][1]"
   ]
  },
  {
   "cell_type": "code",
   "execution_count": 97,
   "id": "9b0a6754",
   "metadata": {},
   "outputs": [
    {
     "data": {
      "text/plain": [
       "0     0.11290\n",
       "1     0.08065\n",
       "2     0.04839\n",
       "3     0.04839\n",
       "4     0.04839\n",
       "5     0.04839\n",
       "6     0.04839\n",
       "7     0.03226\n",
       "8     0.03226\n",
       "9     0.03226\n",
       "10    0.03226\n",
       "11    0.03226\n",
       "12    0.03226\n",
       "13    0.01613\n",
       "14    0.01613\n",
       "15    0.01613\n",
       "16    0.01613\n",
       "17    0.01613\n",
       "18    0.01613\n",
       "19    0.01613\n",
       "20    0.01613\n",
       "21    0.01613\n",
       "22    0.01613\n",
       "23    0.01613\n",
       "24    0.01613\n",
       "25    0.01613\n",
       "26    0.01613\n",
       "27    0.01613\n",
       "28    0.01613\n",
       "29    0.01613\n",
       "30    0.01613\n",
       "31    0.01613\n",
       "32    0.01613\n",
       "33    0.01613\n",
       "34    0.01613\n",
       "35    0.01613\n",
       "Name: Frequence d'apparition, dtype: float64"
      ]
     },
     "execution_count": 97,
     "metadata": {},
     "output_type": "execute_result"
    }
   ],
   "source": [
    "df_main[\"193536\"][0][\"Frequence d\\'apparition\"]"
   ]
  },
  {
   "cell_type": "code",
   "execution_count": null,
   "id": "de8c421e",
   "metadata": {},
   "outputs": [],
   "source": []
  },
  {
   "cell_type": "code",
   "execution_count": null,
   "id": "69ddcec9",
   "metadata": {},
   "outputs": [],
   "source": []
  },
  {
   "cell_type": "code",
   "execution_count": null,
   "id": "4835aeb3",
   "metadata": {},
   "outputs": [],
   "source": []
  },
  {
   "cell_type": "code",
   "execution_count": null,
   "id": "120ba71e",
   "metadata": {},
   "outputs": [],
   "source": []
  },
  {
   "cell_type": "code",
   "execution_count": null,
   "id": "34de5b4d",
   "metadata": {},
   "outputs": [],
   "source": []
  },
  {
   "cell_type": "code",
   "execution_count": 138,
   "id": "f1145665",
   "metadata": {},
   "outputs": [],
   "source": [
    "n = 200\n",
    "path_name = 'rand/*.txt'\n",
    "#path_name = 'txt/*.txt'"
   ]
  },
  {
   "cell_type": "code",
   "execution_count": 139,
   "id": "f6ced816",
   "metadata": {},
   "outputs": [],
   "source": [
    "def moulinette(path_name, n):\n",
    "    df_main = pd.DataFrame()\n",
    "    for doc in glob(path_name):\n",
    "        doc_name = path.splitext(path.basename(doc))[0]\n",
    "        df_lemma, df_tri_pos, df_tri_char = main(doc, doc_name, n)\n",
    "        list_df = [df_lemma, df_tri_pos, df_tri_char]\n",
    "        df_main[doc_name] = list_df\n",
    "    return df_main"
   ]
  },
  {
   "cell_type": "code",
   "execution_count": 140,
   "id": "0977aa92",
   "metadata": {},
   "outputs": [],
   "source": [
    "df_rand = moulinette(path_name, n)"
   ]
  },
  {
   "cell_type": "code",
   "execution_count": 147,
   "id": "d5dba7bf",
   "metadata": {},
   "outputs": [
    {
     "data": {
      "text/plain": [
       "0       mi\n",
       "1      ijn\n",
       "2      mij\n",
       "3      jn \n",
       "4       de\n",
       "      ... \n",
       "195    sli\n",
       "196    ijt\n",
       "197    jt \n",
       "198    n t\n",
       "199     ti\n",
       "Name: chars, Length: 200, dtype: object"
      ]
     },
     "execution_count": 147,
     "metadata": {},
     "output_type": "execute_result"
    }
   ],
   "source": [
    "df_rand[\"2218\"][2][\"chars\"]"
   ]
  },
  {
   "cell_type": "code",
   "execution_count": null,
   "id": "bf98d3e1",
   "metadata": {},
   "outputs": [],
   "source": []
  },
  {
   "cell_type": "code",
   "execution_count": null,
   "id": "f102f5a7",
   "metadata": {},
   "outputs": [],
   "source": []
  },
  {
   "cell_type": "code",
   "execution_count": 136,
   "id": "62ccfb39",
   "metadata": {},
   "outputs": [
    {
     "data": {
      "text/plain": [
       "'/home/humanum/Documents/proceeded/rand'"
      ]
     },
     "execution_count": 136,
     "metadata": {},
     "output_type": "execute_result"
    }
   ],
   "source": [
    "os.getcwd()"
   ]
  },
  {
   "cell_type": "code",
   "execution_count": 121,
   "id": "9ece1575",
   "metadata": {},
   "outputs": [],
   "source": [
    "import os"
   ]
  },
  {
   "cell_type": "code",
   "execution_count": 150,
   "id": "d53ec803",
   "metadata": {},
   "outputs": [],
   "source": [
    "os.chdir('rand/')\n",
    "#os.chdir('/home/humanum/Documents/proceeded')"
   ]
  },
  {
   "cell_type": "code",
   "execution_count": 182,
   "id": "0b8629e8",
   "metadata": {},
   "outputs": [],
   "source": [
    "def df_to_list_dict(n):\n",
    "    list_finale = []\n",
    "    for doc in os.listdir():\n",
    "        doc_name = path.splitext(path.basename(doc))[0]\n",
    "        \n",
    "        keys = df_rand[doc_name][n]['Lemma'].to_list() # Lemma / chars\n",
    "        values = df_rand[doc_name][n][\"Frequence d\\'apparition\"].to_list() \n",
    "        \n",
    "        dict_temp = dict(zip(keys, values))\n",
    "        \n",
    "        list_finale.append(dict_temp)\n",
    "        \n",
    "    return list_finale"
   ]
  },
  {
   "cell_type": "code",
   "execution_count": 181,
   "id": "881025d5",
   "metadata": {},
   "outputs": [],
   "source": [
    "list_dict_tri_char = df_to_list_dict(2)\n",
    "list_dict_tri_pos = df_to_list_dict(1)"
   ]
  },
  {
   "cell_type": "code",
   "execution_count": 183,
   "id": "a9dd936b",
   "metadata": {},
   "outputs": [],
   "source": [
    "list_dict_lemma = df_to_list_dict(0)"
   ]
  },
  {
   "cell_type": "code",
   "execution_count": 186,
   "id": "e6b34dd1",
   "metadata": {},
   "outputs": [],
   "source": [
    "def concat_dict(list_dict):\n",
    "    dict_concat = Counter()\n",
    "\n",
    "    for dict_temp in list_dict:\n",
    "\n",
    "        dict_concat += Counter(dict_temp)\n",
    "    return dict_concat"
   ]
  },
  {
   "cell_type": "code",
   "execution_count": 190,
   "id": "0991fe0b",
   "metadata": {},
   "outputs": [],
   "source": [
    "dict_tri_char_term = concat_dict(list_dict_tri_char)\n",
    "dict_tri_pos_term = concat_dict(list_dict_tri_pos)\n",
    "dict_lemma_term = concat_dict(list_dict_lemma)"
   ]
  },
  {
   "cell_type": "code",
   "execution_count": 196,
   "id": "b027498d",
   "metadata": {},
   "outputs": [],
   "source": [
    "list_tri_char = list(dict(dict_tri_char_term.most_common(50)).keys())\n",
    "list_tri_pos = list(dict(dict_tri_pos_term.most_common(50)).keys())\n",
    "list_lemma = list(dict(dict_lemma_term.most_common(50)).keys())"
   ]
  },
  {
   "cell_type": "code",
   "execution_count": 200,
   "id": "40268b41",
   "metadata": {},
   "outputs": [
    {
     "name": "stdout",
     "output_type": "stream",
     "text": [
      "['en ', 'er ', 'et ', 'n, ', 'en,', 't, ', ' de', 'den', 'an ', 'de ', ' he', 'ijn', ' ge', 'ver', 'een', ' ve', 'at ', 'oor', 'n d', 'aer', ' en', 'jn ', ' da', 'sch', 'eer', 'der', 'ck ', 'cht', 'ie ', ' va', ', D', ' ee', ' be', ' me', 'nde', ' we', 'aar', 'n s', 'ten', ' in', 't d', ' di', 'iet', ' mi', 'in ', 't g', 'ghe', 'te ', ' al', ' En']\n"
     ]
    }
   ],
   "source": [
    "print(list_tri_char)"
   ]
  },
  {
   "cell_type": "code",
   "execution_count": 201,
   "id": "c1d2f881",
   "metadata": {},
   "outputs": [
    {
     "name": "stdout",
     "output_type": "stream",
     "text": [
      "['n_v_pron', 'pron_n_v', 'adp_pron_n', 'adp_art_n', 'v_pron_n', 'n_adv_v', 'n_adp_n', 'art_n_v', 'adv_v_pron', 'v_pron_v', 'n_pron_n', 'n_n_v', 'n_art_n', 'v_art_n', 'v_adv_v', 'n_v_v', 'n_conj_n', 'pron_v_pron', 'v_conj_pron', 'n_pron_v', 'art_n_n', 'pron_adv_v', 'v_adp_pron', 'n_adp_pron', 'n_conj_pron', 'pron_n_n', 'n_n_n', 'v_adp_n', 'n_v_adv', 'pron_n_pron', 'pron_v_v', 'v_pron_adv', 'art_n_adp', 'pron_n_adv', 'v_v_pron', 'n_v_conj', 'art_adj_n', 'adv_v_v', 'n_v_adp', 'pron_v_adp', 'adp_n_n', 'v_pron_pron', 'adp_n_v', 'adv_v_adv', 'conj_pron_v', 'pron_v_adv', 'adv_adv_v', 'n_n_pron', 'conj_pron_n', 'pron_pron_v']\n"
     ]
    }
   ],
   "source": [
    "print(list_tri_pos)"
   ]
  },
  {
   "cell_type": "code",
   "execution_count": 202,
   "id": "c9aef873",
   "metadata": {},
   "outputs": [
    {
     "name": "stdout",
     "output_type": "stream",
     "text": [
      "['een', 'de', 'ik', 'gij', 'hij', 'ne', 'in', 'mijn', 'van', 'het', 'uw', 'en', 'zijn', 'wij', 'zij', 'eten', 'niet', 'dat', 'te', 'met', 'op', 'die', 'haar', 'eer', 'voor', 'hebben', 'zo', 'al', 'als', 'aan', 'et', 'hoofd', 'na', 'tot', 'ook', 'door', 'hier', 'of', 'hoe', 'dan', 'geen', 'om', 'nu', 'wel', 'ons', 'haten', 'deze', 'wat', 'dit', 'bij']\n"
     ]
    }
   ],
   "source": [
    "print(list_lemma)"
   ]
  },
  {
   "cell_type": "code",
   "execution_count": null,
   "id": "40bdabde",
   "metadata": {},
   "outputs": [],
   "source": []
  }
 ],
 "metadata": {
  "kernelspec": {
   "display_name": "Python 3",
   "language": "python",
   "name": "python3"
  },
  "language_info": {
   "codemirror_mode": {
    "name": "ipython",
    "version": 3
   },
   "file_extension": ".py",
   "mimetype": "text/x-python",
   "name": "python",
   "nbconvert_exporter": "python",
   "pygments_lexer": "ipython3",
   "version": "3.8.8"
  }
 },
 "nbformat": 4,
 "nbformat_minor": 5
}
